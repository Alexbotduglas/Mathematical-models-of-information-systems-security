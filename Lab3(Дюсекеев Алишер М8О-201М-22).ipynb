{
 "cells": [
  {
   "cell_type": "markdown",
   "id": "86bfcf53",
   "metadata": {},
   "source": [
    "### Функции OR, AND, NOT, NAND, XOR, ADD\n"
   ]
  },
  {
   "cell_type": "code",
   "execution_count": 1,
   "id": "b0114498",
   "metadata": {},
   "outputs": [],
   "source": [
    "def OR(x,y):\n",
    "    res = ''  \n",
    "    for i,j in zip(x,y):\n",
    "         \n",
    "        if (i=='1') | (j=='1'):\n",
    "            res = res + '1'         \n",
    "        else:            \n",
    "            res = res + '0' \n",
    "    return res\n",
    "\n",
    "\n",
    "def AND(x,y):\n",
    "    res = ''\n",
    "    for i,j in zip(x,y):\n",
    "        if (i=='1') and (j=='1'):\n",
    "            res = res + '1'   \n",
    "        else:\n",
    "            res = res + '0'\n",
    "    return res\n",
    "\n",
    "\n",
    "def NOT(x):\n",
    "    res = '' \n",
    "    for i in x:     \n",
    "        if (i=='1'):      \n",
    "            res = res + '0'             \n",
    "        else:\n",
    "            res = res + '1'\n",
    "\n",
    "    return res\n",
    "\n",
    "\n",
    "def NAND(x,y):\n",
    "    res = ''\n",
    "    for i,j in zip(x,y):\n",
    "        if (i=='1') and (j=='1'):\n",
    "            res = res + '0' \n",
    "        else:\n",
    "            res = res + '1'         \n",
    "    return res\n",
    "\n",
    "def XOR(x,y):\n",
    "    res = ''\n",
    "    for i,j in zip(x,y):\n",
    "        if (i=='0') and (j=='0'):\n",
    "            res = res + '0' \n",
    "        else:\n",
    "            res = res + NAND(i,j)  \n",
    "    return res\n",
    "\n",
    "\n",
    "def ADD(x,y):\n",
    "    x = list(x)\n",
    "    y = list(y)\n",
    "    res = ['0'] + x\n",
    "    for i in range(len(x)-1,-1,-1):\n",
    "        if (res[i+1] == '0') and (y[i] == '0'):\n",
    "            res[i+1] = '0'    \n",
    "        elif (res[i+1] == '0') and (y[i] == '1'):  \n",
    "            res[i+1] = '1'    \n",
    "        elif (res[i+1]=='1') and (y[i]=='0'):\n",
    "            res[i+1] = '1' \n",
    "        elif (res[i+1]=='1') and (y[i]=='1'):\n",
    "            res[i+1] = '0'\n",
    "            if res[i]=='0':\n",
    "                res[i] = '1'\n",
    "            else:\n",
    "                for j in range(len(res[i]), 0, -1):\n",
    "                    if res[j+1] == '0':\n",
    "                        res[j+1]='1'\n",
    "                        break \n",
    "    if res[0] =='0':\n",
    "        res = res[1:]     \n",
    "    back_res = ''\n",
    "    for i in res:  \n",
    "        back_res = back_res + i\n",
    "    return back_res"
   ]
  },
  {
   "cell_type": "code",
   "execution_count": 2,
   "id": "eed5988a",
   "metadata": {},
   "outputs": [
    {
     "name": "stdout",
     "output_type": "stream",
     "text": [
      "11110\n",
      "00000\n",
      "00010\n",
      "11101\n",
      "11111\n",
      "11101\n",
      "11110\n",
      "11100\n",
      "0000\n",
      "0001\n",
      "0010\n",
      "0110\n",
      "1111\n"
     ]
    }
   ],
   "source": [
    "print(OR('00010','11100'))\n",
    "print(AND('00010','11100'))\n",
    "print(AND('00010','11110'))\n",
    "print(NOT('00010',))\n",
    "print(NAND('00010','11100'))\n",
    "print(NAND('00010','11110'))\n",
    "print(XOR('00010','11100'))\n",
    "print(XOR('00010','11110'))\n",
    "print(ADD('0000','0000'))\n",
    "print(ADD('0000','0001'))\n",
    "print(ADD('0001','0001'))\n",
    "print(ADD('0011','0001'))\n",
    "print(ADD('0000','1111'))"
   ]
  },
  {
   "cell_type": "markdown",
   "id": "23961725",
   "metadata": {},
   "source": [
    "### Целочисленное деление с остатком\n"
   ]
  },
  {
   "cell_type": "code",
   "execution_count": 3,
   "id": "d7ffe1b3",
   "metadata": {},
   "outputs": [],
   "source": [
    "def integer_division(dividend, divisor):\n",
    "    quotient = 0\n",
    "    remainder = dividend\n",
    "\n",
    "    while remainder >= divisor:\n",
    "        shift_count = 0\n",
    "        while (divisor << shift_count) <= remainder:\n",
    "            shift_count += 1\n",
    "\n",
    "        quotient += 1 << (shift_count-1)\n",
    "        remainder -= divisor << (shift_count-1)\n",
    "\n",
    "    return quotient, remainder"
   ]
  },
  {
   "cell_type": "code",
   "execution_count": 4,
   "id": "eea0bf3a",
   "metadata": {},
   "outputs": [
    {
     "name": "stdout",
     "output_type": "stream",
     "text": [
      "Частное: 6\n",
      "Остаток: 2\n"
     ]
    }
   ],
   "source": [
    "\n",
    "dividend = 20\n",
    "divisor = 3\n",
    "quotient, remainder = integer_division(dividend, divisor)\n",
    "print(f\"Частное: {quotient}\")\n",
    "print(f\"Остаток: {remainder}\")\n"
   ]
  },
  {
   "cell_type": "code",
   "execution_count": 5,
   "id": "4bbb8023",
   "metadata": {},
   "outputs": [
    {
     "name": "stdout",
     "output_type": "stream",
     "text": [
      "Частное: 6\n",
      "Остаток: 0\n"
     ]
    }
   ],
   "source": [
    "\n",
    "dividend = 18\n",
    "divisor = 3\n",
    "quotient, remainder = integer_division(dividend, divisor)\n",
    "print(f\"Частное: {quotient}\")\n",
    "print(f\"Остаток: {remainder}\")\n"
   ]
  },
  {
   "cell_type": "code",
   "execution_count": 6,
   "id": "ba863fdc",
   "metadata": {},
   "outputs": [
    {
     "name": "stdout",
     "output_type": "stream",
     "text": [
      "Частное: 3\n",
      "Остаток: 1\n"
     ]
    }
   ],
   "source": [
    "\n",
    "dividend = 100\n",
    "divisor = 33\n",
    "quotient, remainder = integer_division(dividend, divisor)\n",
    "print(f\"Частное: {quotient}\")\n",
    "print(f\"Остаток: {remainder}\")\n"
   ]
  },
  {
   "cell_type": "code",
   "execution_count": null,
   "id": "8edb7943",
   "metadata": {},
   "outputs": [],
   "source": []
  },
  {
   "cell_type": "code",
   "execution_count": null,
   "id": "1a9ee709",
   "metadata": {},
   "outputs": [],
   "source": []
  },
  {
   "cell_type": "code",
   "execution_count": null,
   "id": "2f2f559c",
   "metadata": {},
   "outputs": [],
   "source": []
  },
  {
   "cell_type": "code",
   "execution_count": null,
   "id": "125f8ce4",
   "metadata": {},
   "outputs": [],
   "source": []
  },
  {
   "cell_type": "code",
   "execution_count": null,
   "id": "76c6337b",
   "metadata": {},
   "outputs": [],
   "source": []
  }
 ],
 "metadata": {
  "kernelspec": {
   "display_name": "Python 3 (ipykernel)",
   "language": "python",
   "name": "python3"
  },
  "language_info": {
   "codemirror_mode": {
    "name": "ipython",
    "version": 3
   },
   "file_extension": ".py",
   "mimetype": "text/x-python",
   "name": "python",
   "nbconvert_exporter": "python",
   "pygments_lexer": "ipython3",
   "version": "3.9.13"
  }
 },
 "nbformat": 4,
 "nbformat_minor": 5
}
