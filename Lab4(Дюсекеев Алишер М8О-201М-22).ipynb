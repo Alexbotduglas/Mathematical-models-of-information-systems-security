{
 "cells": [
  {
   "cell_type": "code",
   "execution_count": 8,
   "metadata": {},
   "outputs": [],
   "source": [
    "import numpy as np"
   ]
  },
  {
   "cell_type": "code",
   "execution_count": 3,
   "metadata": {},
   "outputs": [],
   "source": [
    "def xor(a, b):\n",
    " \n",
    "    # инициализируем результат\n",
    "    result = []\n",
    " \n",
    "    # Пройдите по всем битам, если биты совпадают, то XOR равно 0, иначе 1\n",
    "    for i in range(1, len(b)):\n",
    "        if a[i] == b[i]:\n",
    "            result.append('0')\n",
    "        else:\n",
    "            result.append('1')\n",
    " \n",
    "    return ''.join(result)\n",
    " \n",
    " \n",
    "# Выполняем деление по модулю 2\n",
    "def mod2div(dividend, divisor):\n",
    " \n",
    "    pick = len(divisor)\n",
    "    tmp = dividend[0 : pick]\n",
    " \n",
    "    while pick < len(dividend):\n",
    " \n",
    "        if tmp[0] == '1':\n",
    "\n",
    "            tmp = xor(divisor, tmp) + dividend[pick]\n",
    " \n",
    "        else: \n",
    "            tmp = xor('0'*pick, tmp) + dividend[pick]\n",
    "        pick += 1\n",
    " \n",
    "    if tmp[0] == '1':\n",
    "        tmp = xor(divisor, tmp)\n",
    "    else:\n",
    "        tmp = xor('0'*pick, tmp)\n",
    " \n",
    "    checkword = tmp\n",
    "    return checkword\n",
    " \n",
    "def encodeData(data, key):\n",
    " \n",
    "    l_key = len(key)\n",
    " \n",
    "    appended_data = data + '0'*(l_key-1)\n",
    "    remainder = mod2div(appended_data, key)\n",
    " \n",
    "    codeword = data + remainder\n",
    "    return codeword    \n",
    "\n",
    "def checkReceivedMSG(data, key):\n",
    "    result = set(mod2div(data, key))\n",
    "    if len(result) == 1 and '0' in result:\n",
    "        return \"message is not corrupted\"\n",
    "    else:\n",
    "        print(mod2div(data, key))\n",
    "        return \"message is corrupted\""
   ]
  },
  {
   "cell_type": "markdown",
   "metadata": {},
   "source": [
    "Зададим некоторый текст сообщения и ключ"
   ]
  },
  {
   "cell_type": "code",
   "execution_count": 4,
   "metadata": {},
   "outputs": [],
   "source": [
    "key = \"1101\"\n",
    "input_string = \"text\""
   ]
  },
  {
   "cell_type": "markdown",
   "metadata": {},
   "source": [
    "Переведем его в битовый формат и рассчитаем контрольную сумму по заданному ключу"
   ]
  },
  {
   "cell_type": "code",
   "execution_count": 5,
   "metadata": {},
   "outputs": [
    {
     "name": "stdout",
     "output_type": "stream",
     "text": [
      "Entered data in binary format : 1110100110010111110001110100\n",
      "Encoded data to be sent to server in binary format : 1110100110010111110001110100001\n"
     ]
    }
   ],
   "source": [
    "data =(''.join(format(ord(x), 'b') for x in input_string))\n",
    "print(\"Entered data in binary format :\",data)\n",
    " \n",
    "ans = encodeData(data,key)\n",
    "print(\"Encoded data to be sent to server in binary format :\",ans)"
   ]
  },
  {
   "cell_type": "markdown",
   "metadata": {},
   "source": [
    "Симулируем ситуацию, когда наше сообщение было отправлено и получатель проверяет не было ли сообщение повреждено"
   ]
  },
  {
   "cell_type": "code",
   "execution_count": 6,
   "metadata": {},
   "outputs": [
    {
     "data": {
      "text/plain": [
       "'message is not corrupted'"
      ]
     },
     "execution_count": 6,
     "metadata": {},
     "output_type": "execute_result"
    }
   ],
   "source": [
    "checkReceivedMSG(ans, key)"
   ]
  },
  {
   "cell_type": "markdown",
   "metadata": {},
   "source": [
    "Теперь смоделируем ситуацию, когда сообщение повреждается в процессе передачи"
   ]
  },
  {
   "cell_type": "code",
   "execution_count": 9,
   "metadata": {},
   "outputs": [
    {
     "name": "stdout",
     "output_type": "stream",
     "text": [
      "['1', '1', '1', '0', '1', '0', '0', '1', '1', '0', '0', '1', '0', '1', '1', '1', '1', '1', '0', '0', '0', '1', '1', '1', '0', '1', '0', '0', '0', '0', '1']\n",
      "1010100110010111110001110100001\n"
     ]
    }
   ],
   "source": [
    "print(ans)\n",
    "ans = list(ans)\n",
    "ids = np.random.randint(0, len(ans)+1, int(len(ans)*0.05))\n",
    "for i in np.random.randint(0, len(ans)+1, int(len(ans)*0.05)):\n",
    "    ans[i] = str(int(not(ans[i])))\n",
    "ans = ''.join(ans)\n",
    "print(ans)"
   ]
  },
  {
   "cell_type": "markdown",
   "metadata": {},
   "source": [
    "Получатель проверяет целостность поврежденного сообщения "
   ]
  },
  {
   "cell_type": "code",
   "execution_count": 10,
   "metadata": {},
   "outputs": [
    {
     "name": "stdout",
     "output_type": "stream",
     "text": [
      "010\n"
     ]
    },
    {
     "data": {
      "text/plain": [
       "'message is corrupted'"
      ]
     },
     "execution_count": 10,
     "metadata": {},
     "output_type": "execute_result"
    }
   ],
   "source": [
    "checkReceivedMSG(ans, key)"
   ]
  },
  {
   "cell_type": "markdown",
   "metadata": {},
   "source": [
    "Остаток не нулевой, а следовательно сообщение было повреждено."
   ]
  }
 ],
 "metadata": {
  "kernelspec": {
   "display_name": "Python 3 (ipykernel)",
   "language": "python",
   "name": "python3"
  },
  "language_info": {
   "codemirror_mode": {
    "name": "ipython",
    "version": 3
   },
   "file_extension": ".py",
   "mimetype": "text/x-python",
   "name": "python",
   "nbconvert_exporter": "python",
   "pygments_lexer": "ipython3",
   "version": "3.9.13"
  }
 },
 "nbformat": 4,
 "nbformat_minor": 2
}
