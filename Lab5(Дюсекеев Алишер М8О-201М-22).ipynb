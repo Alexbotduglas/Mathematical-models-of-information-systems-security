{
 "cells": [
  {
   "cell_type": "code",
   "execution_count": 1,
   "id": "15218573",
   "metadata": {},
   "outputs": [],
   "source": [
    "\n",
    "## BELL-LAPADULA POLICY MODEL ##\n",
    "\n",
    "class CO: # класс объекта классификации\n",
    "    class_order = [\"unclassified\", \"classified\", \"secret\", \"top_secret\"]\n",
    "    def __init__(self, name, classification):\n",
    "        self.name = name\n",
    "        self.classification = classification\n",
    "    def get_classification(self):\n",
    "        return self.classification\n",
    "\n",
    "class BLPUser(CO): ## пользователи\n",
    "    def __init__(self, name, classification):\n",
    "        CO.__init__(self, name, classification)\n",
    "\n",
    "    def read(self, asset):\n",
    "        if isinstance(asset, BLPAsset):\n",
    "            return asset.get_message(self)\n",
    "\n",
    "    def write(self, asset, new_message):\n",
    "        if isinstance(asset, BLPAsset):\n",
    "            return asset.set_message(self, new_message)\n",
    "\n",
    "        \n",
    "class BLPAsset(CO): ## доступы\n",
    "    def __init__(self, name, message, classification):\n",
    "        CO.__init__(self, name, classification)\n",
    "        self.message = message\n",
    "\n",
    "    def get_message(self, user): \n",
    "        if isinstance(user, BLPUser):\n",
    "            if self.class_order.index((user.classification)) >= self.class_order.index(self.classification):\n",
    "                return self.message\n",
    "        return \"Unable to read.\"\n",
    " \n",
    "    def set_message(self, user, new_message):\n",
    "        if isinstance(user, BLPUser):\n",
    "            if self.class_order.index((user.classification)) <= self.class_order.index(self.classification):\n",
    "                self.message = new_message\n",
    "                return self.message\n",
    "        return \"Unable to write.\"\n",
    "\n",
    "    \n"
   ]
  },
  {
   "cell_type": "code",
   "execution_count": 2,
   "id": "920a88fc",
   "metadata": {},
   "outputs": [
    {
     "name": "stdout",
     "output_type": "stream",
     "text": [
      "Example 1: secret agent unable to read up\n",
      "Unable to read.\n",
      "This is a secret message.\n",
      "This is a classified message.\n",
      "This is an unclassified message.\n",
      "Example 2: top secret agent unable to write down\n",
      "I can write here.\n",
      "Unable to write.\n",
      "Unable to write.\n",
      "Unable to write.\n"
     ]
    }
   ],
   "source": [
    "ts = BLPUser(\"Obj1\", \"top_secret\")\n",
    "s = BLPUser(\"Obj2\", \"secret\")\n",
    "c = BLPUser(\"Obj3\", \"classified\")\n",
    "u = BLPUser(\"Obj4\", \"unclassified\")\n",
    "\n",
    "tsa = BLPAsset(\"top_secret_asset\", \"This is a top secret message.\", \"top_secret\")\n",
    "sa = BLPAsset(\"secret_asset\", \"This is a secret message.\", \"secret\")\n",
    "ca = BLPAsset(\"classified asset\", \"This is a classified message.\", \"classified\")\n",
    "ua = BLPAsset(\"unclassified asset\", \"This is an unclassified message.\", \"unclassified\")\n",
    "\n",
    "print(\"Example 1: secret agent unable to read up\")\n",
    "print(s.read(tsa))\n",
    "print(s.read(sa))\n",
    "print(s.read(ca))\n",
    "print(s.read(ua))\n",
    "\n",
    "print(\"Example 2: top secret agent unable to write down\")\n",
    "print(ts.write(tsa, \"I can write here.\"))\n",
    "print(ts.write(sa, \"I can write here.\"))\n",
    "print(ts.write(ca, \"I can write here.\"))\n",
    "print(ts.write(ua, \"I can write here.\"))"
   ]
  },
  {
   "cell_type": "code",
   "execution_count": null,
   "id": "334f0974",
   "metadata": {},
   "outputs": [],
   "source": []
  },
  {
   "cell_type": "markdown",
   "id": "b6b93912",
   "metadata": {},
   "source": [
    "Для создания системы уровней допусков, грифов секретности и матрицы доступа, мы можем воспользоваться принципом наименьших привилегий (Principle of Least Privilege). Этот принцип гласит, что каждый субъект должен иметь только те права доступа, которые необходимы для выполнения своих задач.\n",
    "\n",
    "Сначала определим уровни доступа для каждого пользователя и грифы секретности для каждого объекта:\n",
    "\n",
    "1. **Уровни доступа для пользователей (L[u]):**\n",
    "   - \\( L[u1] = l1 \\) (Владелец или директор компании - уровень доступа top_secret)\n",
    "   - \\( L[u2] = l2 \\) (администратор - уровень доступа secret)\n",
    "   - \\( L[u3] = l2 \\) (сотрудник - уровень доступа classified)\n",
    "   - \\( L[u4] = l3 \\) (непривилегированный пользователь - уровень доступа unclassified)\n",
    "\n",
    "2. **Грифы секретности для объектов (L[o]):**\n",
    "   - \\( L[o1] = l2 \\) (общесистемное ПО)\n",
    "   - \\( L[o2] = l1 \\) (документ \"Стратегические направления\")\n",
    "   - \\( L[o3] = l2 \\) (документ \"График работы сотрудников\")\n",
    "   - \\( L[o4] = l3 \\) (специализированное ПО и БД )\n",
    "\n",
    "Теперь создадим матрицу доступа \\( A[u, o] \\) с правами на чтение (r) и запись (w):\n",
    "\n",
    "\n",
    "\\begin{array}{cccc}\n",
    "   & o1   & o2   & o3   & o4   \\\\\n",
    "u1 & r, w & r, w & r, w & r, w \\\\\n",
    "u2 & r, w & r    & r, w & r, w \\\\\n",
    "u3 & r    & r    & r, w & r, w \\\\\n",
    "u4 & r    &      &      & w    \\\\\n",
    "\\end{array}\n",
    "\n",
    "\n",
    "Это означает, что каждый пользователь имеет права на чтение (r) и запись (w) ко всем объектам доступа в соответствии с их уровнем доступа и грифами секретности. Например, администратор системы (u1) имеет полные права (чтение и запись) ко всем объектам, включая общесистемное ПО (o1), документ \"Стратегические направления развития организации\" (o2) и так далее."
   ]
  },
  {
   "cell_type": "code",
   "execution_count": null,
   "id": "83c9dcda",
   "metadata": {},
   "outputs": [],
   "source": []
  },
  {
   "cell_type": "code",
   "execution_count": null,
   "id": "7ea21b06",
   "metadata": {},
   "outputs": [],
   "source": []
  },
  {
   "cell_type": "code",
   "execution_count": null,
   "id": "3a96e64b",
   "metadata": {},
   "outputs": [],
   "source": []
  }
 ],
 "metadata": {
  "kernelspec": {
   "display_name": "Python 3 (ipykernel)",
   "language": "python",
   "name": "python3"
  },
  "language_info": {
   "codemirror_mode": {
    "name": "ipython",
    "version": 3
   },
   "file_extension": ".py",
   "mimetype": "text/x-python",
   "name": "python",
   "nbconvert_exporter": "python",
   "pygments_lexer": "ipython3",
   "version": "3.9.13"
  }
 },
 "nbformat": 4,
 "nbformat_minor": 5
}
