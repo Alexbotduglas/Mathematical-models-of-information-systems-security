{
 "cells": [
  {
   "cell_type": "code",
   "execution_count": 4,
   "id": "007c7e45",
   "metadata": {},
   "outputs": [],
   "source": [
    "import numpy as np"
   ]
  },
  {
   "cell_type": "code",
   "execution_count": 5,
   "id": "d4d8bdbb",
   "metadata": {},
   "outputs": [],
   "source": [
    "characters = np.array(['0','1','2','3','4',\n",
    "                       '5','6','7','8','9'])"
   ]
  },
  {
   "cell_type": "code",
   "execution_count": 60,
   "id": "72ab85a0",
   "metadata": {},
   "outputs": [],
   "source": [
    "def IsTheNumberSimple(t):\n",
    "    if (t < 2):\n",
    "        return False\n",
    "    elif (t == 2):\n",
    "        return True\n",
    "    else:\n",
    "        for i in range(2, int((t**0.5))+1):\n",
    "            if(t % i == 0):\n",
    "                return False\n",
    "        return True\n",
    "\n",
    "\n",
    "def Calculate_e(m):\n",
    "    e = m - 1\n",
    "    i = 2\n",
    "    while i < (m+1):\n",
    "        if ((m % i == 0) and (e % i == 0) or (IsTheNumberSimple(e) == False)):\n",
    "            e = e - 1\n",
    "            i = 2\n",
    "        else:\n",
    "            i += 1\n",
    "    return e\n",
    "\n",
    "\n",
    "def Calculate_d(e, m):\n",
    "    d = 12\n",
    " \n",
    "    while (True):\n",
    "        if ((e * d) % m == 1):\n",
    "            break\n",
    "        else:\n",
    "            d = d + 1\n",
    " \n",
    "    return d\n",
    "\n",
    "\n",
    "def RSA_Encode(s, e, n):\n",
    "    result = np.array([])\n",
    " \n",
    "    bi = 0\n",
    "    \n",
    "    index = np.array([])\n",
    "\n",
    "    for i in range(len(s)):\n",
    "        index = np.where(characters == s[i])[0]\n",
    "        for a in index:\n",
    "            bi = a\n",
    "        bi = bi**e\n",
    "\n",
    "        bi = bi % n\n",
    "        \n",
    "        result = np.append(result, str(bi))\n",
    "        print(result)\n",
    " \n",
    "    return result\n",
    "\n",
    "\n",
    "def RSA_Decode(Input, d, n):\n",
    "    result = \"\"\n",
    " \n",
    "    bi = 0\n",
    "\n",
    "    for item in Input:\n",
    "        if item == \"\\n\":\n",
    "            continue\n",
    "        bi = item\n",
    "        print(item)\n",
    "        bi = (int(bi)**d)%n\n",
    "        \n",
    "        print(bi)\n",
    "        index = bi\n",
    "        result += str(characters[index])\n",
    " \n",
    "    return result\n",
    "\n",
    "\n",
    "def Encrypt(p, q):\n",
    "\n",
    "    s = \"\"\n",
    "    if(IsTheNumberSimple(p) and IsTheNumberSimple(q)):\n",
    "        f = open('in.txt', 'r')\n",
    "        s += f.read()\n",
    "        f.close()\n",
    "        \n",
    "        global n\n",
    "        n = p * q\n",
    "        m = (p-1) * (q-1)\n",
    "        e = Calculate_e(m)\n",
    "        print(e)\n",
    "        global d\n",
    "        d = Calculate_d(e, m)\n",
    "        print(d)\n",
    "        \n",
    "        result = RSA_Encode(s, e, n)\n",
    "        \n",
    "        f = open('out1.txt', 'w')\n",
    "        for item in result:\n",
    "            f.write(f'{item}\\n')\n",
    "        f.close()\n",
    "    else:\n",
    "        print(\"Числа не простые!\")\n",
    "\n",
    "\n",
    "def Decipher():\n",
    "    Input = np.array([])\n",
    "    f = open('out1.txt', 'r')\n",
    "    lines = f.readlines()\n",
    "    lines_count = len(lines)\n",
    "\n",
    "    print(lines_count)\n",
    "    f.seek(0)\n",
    "    for i in range(lines_count):\n",
    "            Input = np.append(Input, f.readline())\n",
    "    f.close()\n",
    "    result = RSA_Decode(Input, d, n)\n",
    "    \n",
    "    f = open('out2.txt', 'w')\n",
    "    f.write(result)\n",
    "    f.close()"
   ]
  },
  {
   "cell_type": "code",
   "execution_count": 61,
   "id": "cffaa153",
   "metadata": {},
   "outputs": [
    {
     "data": {
      "text/plain": [
       "'190319692305194122071948'"
      ]
     },
     "execution_count": 61,
     "metadata": {},
     "output_type": "execute_result"
    }
   ],
   "source": [
    "f = open('in.txt', 'r')\n",
    "f.read()"
   ]
  },
  {
   "cell_type": "code",
   "execution_count": 62,
   "id": "e5cdf8a9",
   "metadata": {},
   "outputs": [
    {
     "name": "stdout",
     "output_type": "stream",
     "text": [
      "7\n",
      "13\n",
      "['1']\n",
      "['1' '15']\n",
      "['1' '15' '0']\n",
      "['1' '15' '0' '9']\n",
      "['1' '15' '0' '9' '1']\n",
      "['1' '15' '0' '9' '1' '15']\n",
      "['1' '15' '0' '9' '1' '15' '8']\n",
      "['1' '15' '0' '9' '1' '15' '8' '15']\n",
      "['1' '15' '0' '9' '1' '15' '8' '15' '18']\n",
      "['1' '15' '0' '9' '1' '15' '8' '15' '18' '9']\n",
      "['1' '15' '0' '9' '1' '15' '8' '15' '18' '9' '0']\n",
      "['1' '15' '0' '9' '1' '15' '8' '15' '18' '9' '0' '3']\n",
      "['1' '15' '0' '9' '1' '15' '8' '15' '18' '9' '0' '3' '1']\n",
      "['1' '15' '0' '9' '1' '15' '8' '15' '18' '9' '0' '3' '1' '15']\n",
      "['1' '15' '0' '9' '1' '15' '8' '15' '18' '9' '0' '3' '1' '15' '16']\n",
      "['1' '15' '0' '9' '1' '15' '8' '15' '18' '9' '0' '3' '1' '15' '16' '1']\n",
      "['1' '15' '0' '9' '1' '15' '8' '15' '18' '9' '0' '3' '1' '15' '16' '1'\n",
      " '18']\n",
      "['1' '15' '0' '9' '1' '15' '8' '15' '18' '9' '0' '3' '1' '15' '16' '1'\n",
      " '18' '18']\n",
      "['1' '15' '0' '9' '1' '15' '8' '15' '18' '9' '0' '3' '1' '15' '16' '1'\n",
      " '18' '18' '0']\n",
      "['1' '15' '0' '9' '1' '15' '8' '15' '18' '9' '0' '3' '1' '15' '16' '1'\n",
      " '18' '18' '0' '17']\n",
      "['1' '15' '0' '9' '1' '15' '8' '15' '18' '9' '0' '3' '1' '15' '16' '1'\n",
      " '18' '18' '0' '17' '1']\n",
      "['1' '15' '0' '9' '1' '15' '8' '15' '18' '9' '0' '3' '1' '15' '16' '1'\n",
      " '18' '18' '0' '17' '1' '15']\n",
      "['1' '15' '0' '9' '1' '15' '8' '15' '18' '9' '0' '3' '1' '15' '16' '1'\n",
      " '18' '18' '0' '17' '1' '15' '16']\n",
      "['1' '15' '0' '9' '1' '15' '8' '15' '18' '9' '0' '3' '1' '15' '16' '1'\n",
      " '18' '18' '0' '17' '1' '15' '16' '2']\n"
     ]
    }
   ],
   "source": [
    "Encrypt(2, 11)"
   ]
  },
  {
   "cell_type": "code",
   "execution_count": 63,
   "id": "fc40615c",
   "metadata": {},
   "outputs": [
    {
     "data": {
      "text/plain": [
       "'1\\n15\\n0\\n9\\n1\\n15\\n8\\n15\\n18\\n9\\n0\\n3\\n1\\n15\\n16\\n1\\n18\\n18\\n0\\n17\\n1\\n15\\n16\\n2\\n'"
      ]
     },
     "execution_count": 63,
     "metadata": {},
     "output_type": "execute_result"
    }
   ],
   "source": [
    "f = open('out1.txt', 'r')\n",
    "f.read()\n",
    "#f.close()"
   ]
  },
  {
   "cell_type": "code",
   "execution_count": 64,
   "id": "3e6eb1aa",
   "metadata": {},
   "outputs": [
    {
     "name": "stdout",
     "output_type": "stream",
     "text": [
      "24\n",
      "1\n",
      "\n",
      "1\n",
      "15\n",
      "\n",
      "9\n",
      "0\n",
      "\n",
      "0\n",
      "9\n",
      "\n",
      "3\n",
      "1\n",
      "\n",
      "1\n",
      "15\n",
      "\n",
      "9\n",
      "8\n",
      "\n",
      "6\n",
      "15\n",
      "\n",
      "9\n",
      "18\n",
      "\n",
      "2\n",
      "9\n",
      "\n",
      "3\n",
      "0\n",
      "\n",
      "0\n",
      "3\n",
      "\n",
      "5\n",
      "1\n",
      "\n",
      "1\n",
      "15\n",
      "\n",
      "9\n",
      "16\n",
      "\n",
      "4\n",
      "1\n",
      "\n",
      "1\n",
      "18\n",
      "\n",
      "2\n",
      "18\n",
      "\n",
      "2\n",
      "0\n",
      "\n",
      "0\n",
      "17\n",
      "\n",
      "7\n",
      "1\n",
      "\n",
      "1\n",
      "15\n",
      "\n",
      "9\n",
      "16\n",
      "\n",
      "4\n",
      "2\n",
      "\n",
      "8\n"
     ]
    }
   ],
   "source": [
    "Decipher()"
   ]
  },
  {
   "cell_type": "code",
   "execution_count": 65,
   "id": "5f81c55c",
   "metadata": {},
   "outputs": [
    {
     "data": {
      "text/plain": [
       "'190319692305194122071948'"
      ]
     },
     "execution_count": 65,
     "metadata": {},
     "output_type": "execute_result"
    }
   ],
   "source": [
    "f = open('out2.txt', 'r')\n",
    "f.read()"
   ]
  },
  {
   "cell_type": "code",
   "execution_count": null,
   "id": "15218573",
   "metadata": {},
   "outputs": [],
   "source": []
  },
  {
   "cell_type": "code",
   "execution_count": null,
   "id": "a0823d18",
   "metadata": {},
   "outputs": [],
   "source": []
  },
  {
   "cell_type": "code",
   "execution_count": null,
   "id": "07734222",
   "metadata": {},
   "outputs": [],
   "source": []
  }
 ],
 "metadata": {
  "kernelspec": {
   "display_name": "Python 3 (ipykernel)",
   "language": "python",
   "name": "python3"
  },
  "language_info": {
   "codemirror_mode": {
    "name": "ipython",
    "version": 3
   },
   "file_extension": ".py",
   "mimetype": "text/x-python",
   "name": "python",
   "nbconvert_exporter": "python",
   "pygments_lexer": "ipython3",
   "version": "3.9.13"
  }
 },
 "nbformat": 4,
 "nbformat_minor": 5
}
